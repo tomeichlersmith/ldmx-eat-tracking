{
 "cells": [
  {
   "cell_type": "code",
   "execution_count": 1,
   "id": "608c8775-df6f-4705-acce-d79d742d17ab",
   "metadata": {},
   "outputs": [],
   "source": [
    "import uproot\n",
    "import awkward as ak\n",
    "import hist\n",
    "\n",
    "%matplotlib inline"
   ]
  },
  {
   "cell_type": "code",
   "execution_count": 2,
   "id": "8ba262b9-4576-4fcb-b95a-f9e79f540a1a",
   "metadata": {},
   "outputs": [],
   "source": [
    "f = uproot.open('category_trueinclusive_Nevents_100k_MaxTries_1_run_0000_track_yes.root')"
   ]
  },
  {
   "cell_type": "code",
   "execution_count": 3,
   "id": "c0647445-5a98-497b-a427-717a1d3ab22b",
   "metadata": {},
   "outputs": [
    {
     "name": "stdout",
     "output_type": "stream",
     "text": [
      "name                                     | typename                 | interpretation                \n",
      "-----------------------------------------+--------------------------+-------------------------------\n",
      "RecoilTracks_track                       | vector<ldmx::Track>      | AsGroup(<TBranchElement 'Recoi\n",
      "RecoilTracks_track.n_hits_               | int32_t[]                | AsJagged(AsDtype('>i4'))\n",
      "RecoilTracks_track.n_outliers_           | int32_t[]                | AsJagged(AsDtype('>i4'))\n",
      "RecoilTracks_track.ndf_                  | int32_t[]                | AsJagged(AsDtype('>i4'))\n",
      "RecoilTracks_track.n_shared_hits_        | int32_t[]                | AsJagged(AsDtype('>i4'))\n",
      "RecoilTracks_track.n_holes_              | int32_t[]                | AsJagged(AsDtype('>i4'))\n",
      "RecoilTracks_track.chi2_                 | double[]                 | AsJagged(AsDtype('>f8'))\n",
      "RecoilTracks_track.perigee_pars_         | std::vector<double>[]    | AsObjects(AsArray(True, Fal...\n",
      "RecoilTracks_track.perigee_cov_          | std::vector<double>[]    | AsObjects(AsArray(True, Fal...\n",
      "RecoilTracks_track.perigee_              | std::vector<double>[]    | AsObjects(AsArray(True, Fal...\n",
      "RecoilTracks_track.momentum_             | std::vector<double>[]    | AsObjects(AsArray(True, Fal...\n",
      "RecoilTracks_track.position_             | std::vector<double>[]    | AsObjects(AsArray(True, Fal...\n",
      "RecoilTracks_track.meas_idxs_            | std::vector<uint32_t>[]  | AsObjects(AsArray(True, Fal...\n",
      "RecoilTracks_track.outlier_idxs_         | std::vector<uint32_t>[]  | AsObjects(AsArray(True, Fal...\n",
      "RecoilTracks_track.hole_idxs_            | std::vector<uint32_t>[]  | AsObjects(AsArray(True, Fal...\n",
      "RecoilTracks_track.shared_idxs_          | std::vector<uint32_t>[]  | AsObjects(AsArray(True, Fal...\n",
      "RecoilTracks_track.trackID_              | int32_t[]                | AsJagged(AsDtype('>i4'))\n",
      "RecoilTracks_track.truthProb_            | double[]                 | AsJagged(AsDtype('>f8'))\n",
      "RecoilTracks_track.pdgID_                | int32_t[]                | AsJagged(AsDtype('>i4'))\n",
      "RecoilTracks_track.trackStates_          | std::vector<ldmx::Tra... | AsObjects(AsArray(True, Fal...\n"
     ]
    }
   ],
   "source": [
    "f['LDMX_Events/RecoilTracks_track'].show(name_width=40)"
   ]
  },
  {
   "cell_type": "code",
   "execution_count": 4,
   "id": "0ea17cd3-7ea5-4f74-9af0-5b8d38cccd87",
   "metadata": {},
   "outputs": [],
   "source": [
    "tracks = ak.zip({\n",
    "    member : f[f'LDMX_Events/RecoilTracks_track/RecoilTracks_track.{member}_'].array()\n",
    "    for member in [\n",
    "        'n_hits', 'n_outliers', 'ndf', 'n_shared_hits', 'n_holes', 'chi2',\n",
    "        'perigee_pars', 'perigee_cov', 'perigee',\n",
    "        'momentum', 'position', 'meas_idxs',\n",
    "        'outlier_idxs', 'hole_idxs', 'trackID', 'truthProb', 'pdgID'\n",
    "    ]\n",
    "}, depth_limit=2) # zip down 2 depths (which event and which track in an event)"
   ]
  },
  {
   "cell_type": "code",
   "execution_count": 5,
   "id": "805cff97-5e0e-4f82-a4f6-44fe09e5c068",
   "metadata": {},
   "outputs": [
    {
     "data": {
      "text/html": [
       "<pre>[[{n_hits: 10, n_outliers: 0, ndf: 5, n_shared_hits: 0, n_holes: 0, ...}],\n",
       " [{n_hits: 10, n_outliers: 0, ndf: 5, n_shared_hits: 0, n_holes: 0, ...}],\n",
       " [{n_hits: 8, n_outliers: 0, ndf: 3, n_shared_hits: 7, n_holes: 0, ...}, ...],\n",
       " [{n_hits: 10, n_outliers: 0, ndf: 5, n_shared_hits: 0, n_holes: 0, ...}],\n",
       " [{n_hits: 10, n_outliers: 0, ndf: 5, n_shared_hits: 0, n_holes: 0, ...}],\n",
       " [{n_hits: 10, n_outliers: 0, ndf: 5, n_shared_hits: 0, n_holes: 0, ...}],\n",
       " [{n_hits: 10, n_outliers: 0, ndf: 5, n_shared_hits: 0, n_holes: 0, ...}],\n",
       " [{n_hits: 10, n_outliers: 0, ndf: 5, n_shared_hits: 0, n_holes: 0, ...}],\n",
       " [{n_hits: 10, n_outliers: 0, ndf: 5, n_shared_hits: 0, n_holes: 0, ...}],\n",
       " [{n_hits: 10, n_outliers: 0, ndf: 5, n_shared_hits: 0, n_holes: 0, ...}]]\n",
       "------------------------------------------------------------------------------\n",
       "backend: cpu\n",
       "nbytes: 4.9 kB\n",
       "type: 10 * var * {\n",
       "    n_hits: int32,\n",
       "    n_outliers: int32,\n",
       "    ndf: int32,\n",
       "    n_shared_hits: int32,\n",
       "    n_holes: int32,\n",
       "    chi2: float64,\n",
       "    perigee_pars: var * float64,\n",
       "    perigee_cov: var * float64,\n",
       "    perigee: var * float64,\n",
       "    momentum: var * float64,\n",
       "    ...\n",
       "}</pre>"
      ],
      "text/plain": [
       "<Array [[{n_hits: 10, ...}], ..., [{...}]] type='10 * var * {n_hits: int32,...'>"
      ]
     },
     "execution_count": 5,
     "metadata": {},
     "output_type": "execute_result"
    }
   ],
   "source": [
    "tracks"
   ]
  },
  {
   "cell_type": "code",
   "execution_count": 6,
   "id": "0edf9a43-8555-471e-97e1-9a7743317b58",
   "metadata": {},
   "outputs": [
    {
     "data": {
      "text/html": [
       "<pre>[[7.8],\n",
       " [4.41],\n",
       " [7.23, 3.49],\n",
       " [7.88],\n",
       " [7.88],\n",
       " [7.31],\n",
       " [5.55],\n",
       " [7.76],\n",
       " [7.74],\n",
       " [6.91]]\n",
       "--------------\n",
       "backend: cpu\n",
       "nbytes: 176 B\n",
       "type: 10 * var * float64</pre>"
      ],
      "text/plain": [
       "<Array [[7.8], [4.41], [...], ..., [7.74], [6.91]] type='10 * var * float64'>"
      ]
     },
     "execution_count": 6,
     "metadata": {},
     "output_type": "execute_result"
    }
   ],
   "source": [
    "tracks.momentum[:,:,0]"
   ]
  },
  {
   "cell_type": "code",
   "execution_count": 7,
   "id": "41017b0f-e885-42b7-9556-a64c38773cd0",
   "metadata": {},
   "outputs": [
    {
     "data": {
      "text/plain": [
       "[StairsArtists(stairs=<matplotlib.patches.StepPatch object at 0x7fd47644e2a0>, errorbar=<ErrorbarContainer object of 3 artists>, legend_artist=<ErrorbarContainer object of 3 artists>)]"
      ]
     },
     "execution_count": 7,
     "metadata": {},
     "output_type": "execute_result"
    },
    {
     "data": {
      "image/png": "[encoded data removed]",
      "text/plain": [
       "<Figure size 640x480 with 1 Axes>"
      ]
     },
     "metadata": {},
     "output_type": "display_data"
    }
   ],
   "source": [
    "(\n",
    "    hist.Hist.new\n",
    "    .Reg(80,0,8,label='$p_z$ / GeV')\n",
    "    .Double()\n",
    ").fill(ak.flatten(tracks.momentum[:,:,0])).plot()"
   ]
  },
  {
   "cell_type": "code",
   "execution_count": null,
   "id": "cdc481d7-113f-451e-8dd8-6409d9601285",
   "metadata": {},
   "outputs": [],
   "source": []
  }
 ],
 "metadata": {
  "kernelspec": {
   "display_name": "Python 3 (ipykernel)",
   "language": "python",
   "name": "python3"
  },
  "language_info": {
   "codemirror_mode": {
    "name": "ipython",
    "version": 3
   },
   "file_extension": ".py",
   "mimetype": "text/x-python",
   "name": "python",
   "nbconvert_exporter": "python",
   "pygments_lexer": "ipython3",
   "version": "3.12.10"
  }
 },
 "nbformat": 4,
 "nbformat_minor": 5
}
